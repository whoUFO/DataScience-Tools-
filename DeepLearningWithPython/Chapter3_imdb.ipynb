{
 "cells": [
  {
   "cell_type": "code",
   "execution_count": 1,
   "metadata": {},
   "outputs": [
    {
     "name": "stderr",
     "output_type": "stream",
     "text": [
      "Using TensorFlow backend.\n"
     ]
    }
   ],
   "source": [
    "from keras.datasets import imdb"
   ]
  },
  {
   "cell_type": "code",
   "execution_count": 2,
   "metadata": {
    "scrolled": true
   },
   "outputs": [],
   "source": [
    "(train_data, train_labels), (test_data, test_labels) = imdb.load_data(num_words=10000)"
   ]
  },
  {
   "cell_type": "code",
   "execution_count": 15,
   "metadata": {},
   "outputs": [
    {
     "data": {
      "text/plain": [
       "((25000,), (25000,))"
      ]
     },
     "execution_count": 15,
     "metadata": {},
     "output_type": "execute_result"
    }
   ],
   "source": [
    "train_data.shape, train_labels.shape"
   ]
  },
  {
   "cell_type": "code",
   "execution_count": 16,
   "metadata": {},
   "outputs": [],
   "source": [
    "word_index= imdb.get_word_index()\n",
    "reverse_word_index = dict([(value, key) for (key,value) in word_index.items()])"
   ]
  },
  {
   "cell_type": "code",
   "execution_count": 17,
   "metadata": {},
   "outputs": [],
   "source": [
    "decoded_review = ' '.join([reverse_word_index.get(i-3,\"?\") for i in train_data[0]])"
   ]
  },
  {
   "cell_type": "code",
   "execution_count": 18,
   "metadata": {},
   "outputs": [
    {
     "data": {
      "text/plain": [
       "\"? this film was just brilliant casting location scenery story direction everyone's really suited the part they played and you could just imagine being there robert ? is an amazing actor and now the same being director ? father came from the same scottish island as myself so i loved the fact there was a real connection with this film the witty remarks throughout the film were great it was just brilliant so much that i bought the film as soon as it was released for ? and would recommend it to everyone to watch and the fly fishing was amazing really cried at the end it was so sad and you know what they say if you cry at a film it must have been good and this definitely was also ? to the two little boy's that played the ? of norman and paul they were just brilliant children are often left out of the ? list i think because the stars that play them all grown up are such a big profile for the whole film but these children are amazing and should be praised for what they have done don't you think the whole story was so lovely because it was true and was someone's life after all that was shared with us all\""
      ]
     },
     "execution_count": 18,
     "metadata": {},
     "output_type": "execute_result"
    }
   ],
   "source": [
    "decoded_review"
   ]
  },
  {
   "cell_type": "code",
   "execution_count": 25,
   "metadata": {},
   "outputs": [],
   "source": [
    "import numpy as np\n",
    "\n",
    "\n",
    "def vectorize_sequences(sequences, dimension=10000):\n",
    "    results = np.zeros((len(sequences), dimension))\n",
    "    for (i, sequence) in enumerate(sequences):\n",
    "        results[i, sequence] = 1.\n",
    "    return results"
   ]
  },
  {
   "cell_type": "code",
   "execution_count": 38,
   "metadata": {},
   "outputs": [],
   "source": [
    "x_train = vectorize_sequences(train_data)\n",
    "x_test = vectorize_sequences(test_data)\n",
    "\n",
    "y_train = np.asarray(train_labels).astype('float32')\n",
    "y_test = np.asarray(test_labels).astype('float32')"
   ]
  },
  {
   "cell_type": "code",
   "execution_count": 39,
   "metadata": {},
   "outputs": [],
   "source": [
    "from keras import models\n",
    "from keras import layers\n",
    "\n",
    "model = models.Sequential()\n",
    "model.add(layers.Dense(16, activation='relu', input_shape=(10000, )))\n",
    "model.add(layers.Dense(16, activation='relu'))\n",
    "model.add(layers.Dense(1, activation='sigmoid'))"
   ]
  },
  {
   "cell_type": "code",
   "execution_count": 40,
   "metadata": {},
   "outputs": [],
   "source": [
    "from keras import optimizers\n",
    "from keras import losses\n",
    "from keras import metrics\n",
    "\n",
    "model.compile(optimizer=optimizers.RMSprop(lr=0.01),\n",
    "              loss=losses.binary_crossentropy,\n",
    "              metrics=[metrics.binary_accuracy])"
   ]
  },
  {
   "cell_type": "code",
   "execution_count": 41,
   "metadata": {},
   "outputs": [],
   "source": [
    "x_val = x_train[:10000]\n",
    "partial_x_val = x_train[10000:]\n",
    "y_val = y_train[:10000]\n",
    "partial_y_val = y_train[10000:]"
   ]
  },
  {
   "cell_type": "code",
   "execution_count": 42,
   "metadata": {},
   "outputs": [
    {
     "name": "stdout",
     "output_type": "stream",
     "text": [
      "WARNING:tensorflow:From /Users/yangxiaohong/opt/anaconda3/lib/python3.7/site-packages/keras/backend/tensorflow_backend.py:986: The name tf.assign_add is deprecated. Please use tf.compat.v1.assign_add instead.\n",
      "\n",
      "WARNING:tensorflow:From /Users/yangxiaohong/opt/anaconda3/lib/python3.7/site-packages/keras/backend/tensorflow_backend.py:973: The name tf.assign is deprecated. Please use tf.compat.v1.assign instead.\n",
      "\n",
      "WARNING:tensorflow:From /Users/yangxiaohong/opt/anaconda3/lib/python3.7/site-packages/keras/backend/tensorflow_backend.py:2741: The name tf.Session is deprecated. Please use tf.compat.v1.Session instead.\n",
      "\n",
      "Train on 15000 samples, validate on 10000 samples\n",
      "Epoch 1/20\n",
      "WARNING:tensorflow:From /Users/yangxiaohong/opt/anaconda3/lib/python3.7/site-packages/keras/backend/tensorflow_backend.py:174: The name tf.get_default_session is deprecated. Please use tf.compat.v1.get_default_session instead.\n",
      "\n",
      "WARNING:tensorflow:From /Users/yangxiaohong/opt/anaconda3/lib/python3.7/site-packages/keras/backend/tensorflow_backend.py:181: The name tf.ConfigProto is deprecated. Please use tf.compat.v1.ConfigProto instead.\n",
      "\n",
      "WARNING:tensorflow:From /Users/yangxiaohong/opt/anaconda3/lib/python3.7/site-packages/keras/backend/tensorflow_backend.py:190: The name tf.global_variables is deprecated. Please use tf.compat.v1.global_variables instead.\n",
      "\n",
      "WARNING:tensorflow:From /Users/yangxiaohong/opt/anaconda3/lib/python3.7/site-packages/keras/backend/tensorflow_backend.py:199: The name tf.is_variable_initialized is deprecated. Please use tf.compat.v1.is_variable_initialized instead.\n",
      "\n",
      "WARNING:tensorflow:From /Users/yangxiaohong/opt/anaconda3/lib/python3.7/site-packages/keras/backend/tensorflow_backend.py:206: The name tf.variables_initializer is deprecated. Please use tf.compat.v1.variables_initializer instead.\n",
      "\n",
      "15000/15000 [==============================] - 8s 537us/step - loss: 0.5465 - binary_accuracy: 0.7057 - val_loss: 0.3983 - val_binary_accuracy: 0.8252\n",
      "Epoch 2/20\n",
      "15000/15000 [==============================] - 4s 268us/step - loss: 0.2940 - binary_accuracy: 0.8831 - val_loss: 0.3280 - val_binary_accuracy: 0.8702\n",
      "Epoch 3/20\n",
      "15000/15000 [==============================] - 3s 193us/step - loss: 0.1982 - binary_accuracy: 0.9225 - val_loss: 0.3222 - val_binary_accuracy: 0.8810\n",
      "Epoch 4/20\n",
      "15000/15000 [==============================] - 3s 174us/step - loss: 0.1458 - binary_accuracy: 0.9421 - val_loss: 0.3349 - val_binary_accuracy: 0.8826\n",
      "Epoch 5/20\n",
      "15000/15000 [==============================] - 4s 239us/step - loss: 0.1199 - binary_accuracy: 0.9555 - val_loss: 0.4042 - val_binary_accuracy: 0.8686\n",
      "Epoch 6/20\n",
      "15000/15000 [==============================] - 3s 225us/step - loss: 0.0877 - binary_accuracy: 0.9719 - val_loss: 0.4576 - val_binary_accuracy: 0.8787\n",
      "Epoch 7/20\n",
      "15000/15000 [==============================] - 3s 172us/step - loss: 0.0930 - binary_accuracy: 0.9726 - val_loss: 0.4997 - val_binary_accuracy: 0.8743\n",
      "Epoch 8/20\n",
      "15000/15000 [==============================] - 3s 213us/step - loss: 0.0669 - binary_accuracy: 0.9791 - val_loss: 0.5385 - val_binary_accuracy: 0.8697\n",
      "Epoch 9/20\n",
      "15000/15000 [==============================] - 3s 168us/step - loss: 0.0131 - binary_accuracy: 0.9967 - val_loss: 0.6627 - val_binary_accuracy: 0.8737\n",
      "Epoch 10/20\n",
      "15000/15000 [==============================] - 3s 186us/step - loss: 0.0841 - binary_accuracy: 0.9806 - val_loss: 0.6896 - val_binary_accuracy: 0.8729\n",
      "Epoch 11/20\n",
      "15000/15000 [==============================] - 3s 201us/step - loss: 0.0047 - binary_accuracy: 0.9989 - val_loss: 0.8062 - val_binary_accuracy: 0.8709\n",
      "Epoch 12/20\n",
      "15000/15000 [==============================] - 2s 157us/step - loss: 0.0023 - binary_accuracy: 0.9994 - val_loss: 0.9124 - val_binary_accuracy: 0.8698\n",
      "Epoch 13/20\n",
      "15000/15000 [==============================] - 3s 184us/step - loss: 0.1192 - binary_accuracy: 0.9843 - val_loss: 0.8762 - val_binary_accuracy: 0.8711\n",
      "Epoch 14/20\n",
      "15000/15000 [==============================] - 3s 199us/step - loss: 8.2630e-04 - binary_accuracy: 0.9999 - val_loss: 0.9248 - val_binary_accuracy: 0.8723\n",
      "Epoch 15/20\n",
      "15000/15000 [==============================] - 3s 202us/step - loss: 4.1850e-04 - binary_accuracy: 0.9999 - val_loss: 1.0034 - val_binary_accuracy: 0.8719\n",
      "Epoch 16/20\n",
      "15000/15000 [==============================] - 3s 210us/step - loss: 1.8640e-04 - binary_accuracy: 1.0000 - val_loss: 1.5219 - val_binary_accuracy: 0.8363\n",
      "Epoch 17/20\n",
      "15000/15000 [==============================] - 3s 190us/step - loss: 0.1212 - binary_accuracy: 0.9846 - val_loss: 1.0699 - val_binary_accuracy: 0.8704\n",
      "Epoch 18/20\n",
      "15000/15000 [==============================] - 3s 188us/step - loss: 1.4244e-04 - binary_accuracy: 1.0000 - val_loss: 1.0857 - val_binary_accuracy: 0.8722\n",
      "Epoch 19/20\n",
      "15000/15000 [==============================] - 3s 225us/step - loss: 1.0513e-04 - binary_accuracy: 1.0000 - val_loss: 1.0991 - val_binary_accuracy: 0.8716\n",
      "Epoch 20/20\n",
      "15000/15000 [==============================] - 3s 197us/step - loss: 6.2529e-05 - binary_accuracy: 1.0000 - val_loss: 1.1417 - val_binary_accuracy: 0.8718\n"
     ]
    }
   ],
   "source": [
    "history = model.fit(partial_x_val,\n",
    "                    partial_y_val,\n",
    "                    epochs=20,\n",
    "                    batch_size=512,\n",
    "                    validation_data=(x_val, y_val))"
   ]
  },
  {
   "cell_type": "code",
   "execution_count": 45,
   "metadata": {},
   "outputs": [
    {
     "data": {
      "text/plain": [
       "dict_keys(['val_loss', 'val_binary_accuracy', 'loss', 'binary_accuracy'])"
      ]
     },
     "execution_count": 45,
     "metadata": {},
     "output_type": "execute_result"
    }
   ],
   "source": [
    "history_dict=history.history\n",
    "history_dict.keys()"
   ]
  },
  {
   "cell_type": "code",
   "execution_count": 54,
   "metadata": {},
   "outputs": [
    {
     "data": {
      "image/png": "[encoded data removed]",
      "text/plain": [
       "<Figure size 720x576 with 1 Axes>"
      ]
     },
     "metadata": {
      "needs_background": "light"
     },
     "output_type": "display_data"
    }
   ],
   "source": [
    "import matplotlib.pyplot as plt\n",
    "\n",
    "history_dict=history.history\n",
    "loss_values = history_dict['loss']\n",
    "val_loss_values = history_dict['val_loss']\n",
    "epochs = range(1,len(loss_values)+1)\n",
    "\n",
    "plt.figure(figsize=(8,6))\n",
    "plt.xticks(range(0,21,2))\n",
    "plt.plot(epochs,loss_values,'bo',label=\"Training loss\")\n",
    "plt.plot(epochs,val_loss_values,'r',label=\"Validation loss\")\n",
    "plt.title(\"Training and Validation loss\")\n",
    "plt.xlabel('Epochs')\n",
    "plt.ylabel('Loss')\n",
    "plt.legend(loc='best')\n",
    "plt.show()"
   ]
  },
  {
   "cell_type": "code",
   "execution_count": 56,
   "metadata": {},
   "outputs": [
    {
     "data": {
      "image/png": "[encoded data removed]",
      "text/plain": [
       "<Figure size 720x576 with 1 Axes>"
      ]
     },
     "metadata": {
      "needs_background": "light"
     },
     "output_type": "display_data"
    }
   ],
   "source": [
    "import matplotlib.pyplot as plt\n",
    "\n",
    "\n",
    "binary_accuracy = history_dict['binary_accuracy']\n",
    "val_binary_accuracy = history_dict['val_binary_accuracy']\n",
    "epochs = range(1,len(val_binary_accuracy)+1)\n",
    "\n",
    "plt.figure(figsize=(10,8))\n",
    "plt.xticks(range(0,len(val_binary_accuracy)+1,2))\n",
    "plt.plot(epochs,binary_accuracy,'bo',label=\"Training acc\")\n",
    "plt.plot(epochs,val_binary_accuracy,'r',label=\"Validation acc\")\n",
    "plt.title(\"Training and Validation accuracy\")\n",
    "plt.xlabel('Epochs')\n",
    "plt.ylabel('Loss')\n",
    "plt.legend(loc='best')\n",
    "plt.show()"
   ]
  },
  {
   "cell_type": "code",
   "execution_count": 57,
   "metadata": {},
   "outputs": [
    {
     "name": "stdout",
     "output_type": "stream",
     "text": [
      "Epoch 1/4\n",
      "15000/15000 [==============================] - 6s 391us/step - loss: 0.5326 - acc: 0.7917\n",
      "Epoch 2/4\n",
      "15000/15000 [==============================] - 2s 133us/step - loss: 0.3258 - acc: 0.8987\n",
      "Epoch 3/4\n",
      "15000/15000 [==============================] - 2s 106us/step - loss: 0.2357 - acc: 0.9247\n",
      "Epoch 4/4\n",
      "15000/15000 [==============================] - 1s 98us/step - loss: 0.1867 - acc: 0.9395\n"
     ]
    },
    {
     "data": {
      "text/plain": [
       "<keras.callbacks.History at 0x1c5f866990>"
      ]
     },
     "execution_count": 57,
     "metadata": {},
     "output_type": "execute_result"
    }
   ],
   "source": [
    "model = models.Sequential()\n",
    "model.add(layers.Dense(16, activation='relu', input_shape=(10000, )))\n",
    "model.add(layers.Dense(16, activation='relu'))\n",
    "model.add(layers.Dense(1, activation='sigmoid'))\n",
    "\n",
    "model.compile(optimizer=optimizers.RMSprop(),\n",
    "              loss=losses.binary_crossentropy,\n",
    "              metrics=['accuracy'])\n",
    "\n",
    "model.fit(partial_x_val, partial_y_val, epochs=4, batch_size=512)"
   ]
  },
  {
   "cell_type": "code",
   "execution_count": 58,
   "metadata": {},
   "outputs": [
    {
     "name": "stdout",
     "output_type": "stream",
     "text": [
      "25000/25000 [==============================] - 6s 250us/step\n"
     ]
    }
   ],
   "source": [
    "results= model.evaluate(x_test,y_test)\n",
    "results"
   ]
  },
  {
   "cell_type": "code",
   "execution_count": 59,
   "metadata": {},
   "outputs": [
    {
     "data": {
      "text/plain": [
       "[0.3012486324977875, 0.87736]"
      ]
     },
     "execution_count": 59,
     "metadata": {},
     "output_type": "execute_result"
    }
   ],
   "source": [
    "results"
   ]
  },
  {
   "cell_type": "code",
   "execution_count": 62,
   "metadata": {},
   "outputs": [],
   "source": []
  },
  {
   "cell_type": "code",
   "execution_count": 74,
   "metadata": {},
   "outputs": [],
   "source": [
    "y_pred = model.predict(x_test)\n",
    "y_test_t = np.array([[y] for y in y_test])\n",
    "y_score =y_pred-y_test_t\n",
    "plt.hist(y_score)"
   ]
  },
  {
   "cell_type": "code",
   "execution_count": 78,
   "metadata": {},
   "outputs": [],
   "source": []
  },
  {
   "cell_type": "code",
   "execution_count": 82,
   "metadata": {},
   "outputs": [
    {
     "data": {
      "text/plain": [
       "(array([  232.,   423.,   714.,  1529., 10100.,  7393.,  1874.,  1172.,\n",
       "          834.,   729.]),\n",
       " array([-0.996755  , -0.79708225, -0.5974094 , -0.39773667, -0.19806388,\n",
       "         0.00160891,  0.2012817 ,  0.40095448,  0.60062724,  0.80030006,\n",
       "         0.9999728 ], dtype=float32),\n",
       " <a list of 10 Patch objects>)"
      ]
     },
     "execution_count": 82,
     "metadata": {},
     "output_type": "execute_result"
    },
    {
     "data": {
      "image/png": "[encoded data removed]",
      "text/plain": [
       "<Figure size 432x288 with 1 Axes>"
      ]
     },
     "metadata": {
      "needs_background": "light"
     },
     "output_type": "display_data"
    }
   ],
   "source": []
  },
  {
   "cell_type": "code",
   "execution_count": 112,
   "metadata": {
    "code_folding": []
   },
   "outputs": [],
   "source": [
    "model = models.Sequential()\n",
    "model.add(layers.Dense(32, activation='tanh', input_shape=(10000, )))\n",
    "model.add(layers.Dense(32, activation='tanh'))\n",
    "model.add(layers.Dense(32, activation='tanh'))\n",
    "model.add(layers.Dense(1, activation='sigmoid'))\n",
    "\n",
    "model.compile(optimizer=optimizers.RMSprop(),\n",
    "              loss=losses.mse,\n",
    "              metrics=['accuracy'])"
   ]
  },
  {
   "cell_type": "code",
   "execution_count": 113,
   "metadata": {},
   "outputs": [
    {
     "name": "stdout",
     "output_type": "stream",
     "text": [
      "Train on 15000 samples, validate on 10000 samples\n",
      "Epoch 1/20\n",
      "15000/15000 [==============================] - 7s 453us/step - loss: 0.1495 - acc: 0.7825 - val_loss: 0.1047 - val_acc: 0.8592\n",
      "Epoch 2/20\n",
      "15000/15000 [==============================] - 3s 211us/step - loss: 0.0674 - acc: 0.9138 - val_loss: 0.0847 - val_acc: 0.8864\n",
      "Epoch 3/20\n",
      "15000/15000 [==============================] - 2s 136us/step - loss: 0.0498 - acc: 0.9353 - val_loss: 0.0873 - val_acc: 0.8848\n",
      "Epoch 4/20\n",
      "15000/15000 [==============================] - 2s 156us/step - loss: 0.0372 - acc: 0.9539 - val_loss: 0.1051 - val_acc: 0.8658\n",
      "Epoch 5/20\n",
      "15000/15000 [==============================] - 3s 170us/step - loss: 0.0298 - acc: 0.9642 - val_loss: 0.0990 - val_acc: 0.8775\n",
      "Epoch 6/20\n",
      "15000/15000 [==============================] - 3s 169us/step - loss: 0.0253 - acc: 0.9699 - val_loss: 0.1002 - val_acc: 0.8775\n",
      "Epoch 7/20\n",
      "15000/15000 [==============================] - 2s 140us/step - loss: 0.0221 - acc: 0.9745 - val_loss: 0.1251 - val_acc: 0.8515\n",
      "Epoch 8/20\n",
      "15000/15000 [==============================] - 2s 154us/step - loss: 0.0180 - acc: 0.9791 - val_loss: 0.1088 - val_acc: 0.8731\n",
      "Epoch 9/20\n",
      "15000/15000 [==============================] - 3s 170us/step - loss: 0.0198 - acc: 0.9770 - val_loss: 0.1092 - val_acc: 0.8724\n",
      "Epoch 10/20\n",
      "15000/15000 [==============================] - 2s 137us/step - loss: 0.0145 - acc: 0.9833 - val_loss: 0.1112 - val_acc: 0.8713\n",
      "Epoch 11/20\n",
      "15000/15000 [==============================] - 2s 150us/step - loss: 0.0164 - acc: 0.9813 - val_loss: 0.1125 - val_acc: 0.8709\n",
      "Epoch 12/20\n",
      "15000/15000 [==============================] - 3s 210us/step - loss: 0.0128 - acc: 0.9863 - val_loss: 0.1158 - val_acc: 0.8692\n",
      "Epoch 13/20\n",
      "15000/15000 [==============================] - 2s 161us/step - loss: 0.0075 - acc: 0.9925 - val_loss: 0.1248 - val_acc: 0.8604\n",
      "Epoch 14/20\n",
      "15000/15000 [==============================] - 2s 148us/step - loss: 0.0138 - acc: 0.9849 - val_loss: 0.1191 - val_acc: 0.8667\n",
      "Epoch 15/20\n",
      "15000/15000 [==============================] - 2s 151us/step - loss: 0.0137 - acc: 0.9846 - val_loss: 0.1214 - val_acc: 0.8647\n",
      "Epoch 16/20\n",
      "15000/15000 [==============================] - 2s 140us/step - loss: 0.0069 - acc: 0.9931 - val_loss: 0.1211 - val_acc: 0.8664\n",
      "Epoch 17/20\n",
      "15000/15000 [==============================] - 2s 148us/step - loss: 0.0135 - acc: 0.9849 - val_loss: 0.1202 - val_acc: 0.8670\n",
      "Epoch 18/20\n",
      "15000/15000 [==============================] - 2s 144us/step - loss: 0.0065 - acc: 0.9935 - val_loss: 0.1213 - val_acc: 0.8648\n",
      "Epoch 19/20\n",
      "15000/15000 [==============================] - 2s 140us/step - loss: 0.0129 - acc: 0.9857 - val_loss: 0.1216 - val_acc: 0.8661\n",
      "Epoch 20/20\n",
      "15000/15000 [==============================] - 2s 139us/step - loss: 0.0121 - acc: 0.9857 - val_loss: 0.1224 - val_acc: 0.8650\n"
     ]
    }
   ],
   "source": [
    "history = model.fit(partial_x_val,\n",
    "                    partial_y_val,\n",
    "                    epochs=20,\n",
    "                    batch_size=512,\n",
    "                    validation_data=(x_val, y_val))"
   ]
  },
  {
   "cell_type": "code",
   "execution_count": 114,
   "metadata": {
    "scrolled": true
   },
   "outputs": [
    {
     "data": {
      "image/png": "[encoded data removed]",
      "text/plain": [
       "<Figure size 576x432 with 1 Axes>"
      ]
     },
     "metadata": {
      "needs_background": "light"
     },
     "output_type": "display_data"
    }
   ],
   "source": [
    "history_dict = history.history\n",
    "loss_values = history_dict['loss']\n",
    "val_loss_values = history_dict['val_loss']\n",
    "epochs = range(1, len(loss_values) + 1)\n",
    "\n",
    "plt.figure(figsize=(8, 6))\n",
    "plt.xticks(range(0, 21, 2))\n",
    "plt.plot(epochs, loss_values, 'bo', label=\"Training loss\")\n",
    "plt.plot(epochs, val_loss_values, 'r', label=\"Validation loss\")\n",
    "plt.title(\"Training and Validation loss\")\n",
    "plt.xlabel('Epochs')\n",
    "plt.ylabel('Loss')\n",
    "plt.legend(loc='best')\n",
    "plt.show()"
   ]
  },
  {
   "cell_type": "code",
   "execution_count": 115,
   "metadata": {},
   "outputs": [
    {
     "data": {
      "image/png": "[encoded data removed]",
      "text/plain": [
       "<Figure size 576x432 with 1 Axes>"
      ]
     },
     "metadata": {
      "needs_background": "light"
     },
     "output_type": "display_data"
    }
   ],
   "source": [
    "import matplotlib.pyplot as plt\n",
    "\n",
    "\n",
    "acc = history_dict['acc']\n",
    "val_acc = history_dict['val_acc']\n",
    "epochs = range(1,len(val_acc)+1)\n",
    "\n",
    "plt.figure(figsize=(8,6))\n",
    "plt.xticks(range(0,len(val_acc)+1,2))\n",
    "plt.plot(epochs,binary_accuracy,'bo',label=\"Training acc\")\n",
    "plt.plot(epochs,val_binary_accuracy,'r',label=\"Validation acc\")\n",
    "plt.title(\"Training and Validation accuracy\")\n",
    "plt.xlabel('Epochs')\n",
    "plt.ylabel('Loss')\n",
    "plt.legend(loc='best')\n",
    "plt.show()"
   ]
  },
  {
   "cell_type": "code",
   "execution_count": 116,
   "metadata": {},
   "outputs": [
    {
     "name": "stdout",
     "output_type": "stream",
     "text": [
      "Epoch 1/2\n",
      "15000/15000 [==============================] - 3s 168us/step - loss: 0.0057 - acc: 0.9943\n",
      "Epoch 2/2\n",
      "15000/15000 [==============================] - 2s 106us/step - loss: 0.0055 - acc: 0.9945\n",
      "25000/25000 [==============================] - 6s 233us/step\n"
     ]
    },
    {
     "data": {
      "text/plain": [
       "[0.1363924667649716, 0.8512]"
      ]
     },
     "execution_count": 116,
     "metadata": {},
     "output_type": "execute_result"
    }
   ],
   "source": [
    "model.fit(partial_x_val, partial_y_val, epochs=2, batch_size=512)\n",
    "results= model.evaluate(x_test,y_test)\n",
    "results"
   ]
  },
  {
   "cell_type": "code",
   "execution_count": 117,
   "metadata": {},
   "outputs": [
    {
     "data": {
      "text/plain": [
       "(array([ 1646.,   171.,   126.,   180., 10377., 10408.,   173.,   143.,\n",
       "          158.,  1618.]),\n",
       " array([-9.9990427e-01, -7.9992330e-01, -5.9994233e-01, -3.9996135e-01,\n",
       "        -1.9998038e-01,  5.9604645e-07,  1.9998157e-01,  3.9996254e-01,\n",
       "         5.9994352e-01,  7.9992449e-01,  9.9990547e-01], dtype=float32),\n",
       " <a list of 10 Patch objects>)"
      ]
     },
     "execution_count": 117,
     "metadata": {},
     "output_type": "execute_result"
    },
    {
     "data": {
      "image/png": "[encoded data removed]",
      "text/plain": [
       "<Figure size 432x288 with 1 Axes>"
      ]
     },
     "metadata": {
      "needs_background": "light"
     },
     "output_type": "display_data"
    }
   ],
   "source": [
    "y_pred = model.predict(x_test)\n",
    "y_test_t = np.array([[y] for y in y_test])\n",
    "y_score =(y_pred-y_test_t)\n",
    "plt.hist(y_score)"
   ]
  },
  {
   "cell_type": "code",
   "execution_count": null,
   "metadata": {},
   "outputs": [],
   "source": []
  }
 ],
 "metadata": {
  "kernelspec": {
   "display_name": "Python 3",
   "language": "python",
   "name": "python3"
  },
  "language_info": {
   "codemirror_mode": {
    "name": "ipython",
    "version": 3
   },
   "file_extension": ".py",
   "mimetype": "text/x-python",
   "name": "python",
   "nbconvert_exporter": "python",
   "pygments_lexer": "ipython3",
   "version": "3.7.4"
  },
  "toc": {
   "base_numbering": 1,
   "nav_menu": {},
   "number_sections": true,
   "sideBar": true,
   "skip_h1_title": false,
   "title_cell": "Table of Contents",
   "title_sidebar": "Contents",
   "toc_cell": false,
   "toc_position": {},
   "toc_section_display": true,
   "toc_window_display": false
  }
 },
 "nbformat": 4,
 "nbformat_minor": 2
}
